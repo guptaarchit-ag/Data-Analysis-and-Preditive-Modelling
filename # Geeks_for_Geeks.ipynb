{
 "cells": [
  {
   "cell_type": "code",
   "execution_count": 1,
   "metadata": {},
   "outputs": [],
   "source": [
    "# List \n",
    "# Create an empyty list\n",
    "nums = []"
   ]
  },
  {
   "cell_type": "code",
   "execution_count": 2,
   "metadata": {},
   "outputs": [],
   "source": [
    "nums.append(3)"
   ]
  },
  {
   "cell_type": "code",
   "execution_count": 5,
   "metadata": {},
   "outputs": [],
   "source": [
    "nums.append(\"string2\")\n",
    "nums.append(4.5)"
   ]
  },
  {
   "cell_type": "code",
   "execution_count": 6,
   "metadata": {},
   "outputs": [
    {
     "name": "stdout",
     "output_type": "stream",
     "text": [
      "[3, 'string2', 4.5, 'string2', 4.5]\n"
     ]
    }
   ],
   "source": [
    "print(nums)"
   ]
  },
  {
   "cell_type": "code",
   "execution_count": 7,
   "metadata": {},
   "outputs": [
    {
     "name": "stdout",
     "output_type": "stream",
     "text": [
      "Enter your name:Archit\n",
      "Hello Archit\n"
     ]
    }
   ],
   "source": [
    "# taking input/output from the user and hence manipulate it \n",
    "name = input(\"Enter your name:\")\n",
    "# print it \n",
    "print(\"Hello\",name)"
   ]
  },
  {
   "cell_type": "code",
   "execution_count": 9,
   "metadata": {},
   "outputs": [
    {
     "name": "stdout",
     "output_type": "stream",
     "text": [
      "Enter number 1:2424\n",
      "Enter number 2:2\n",
      "Product is: 4848\n"
     ]
    }
   ],
   "source": [
    "# Accepting integers from a user \n",
    "num1 = int(input(\"Enter number 1:\"))\n",
    "num2 = int(input(\"Enter number 2:\"))\n",
    "num3 = num1*num2\n",
    "print(\"Product is:\",num3)"
   ]
  },
  {
   "cell_type": "code",
   "execution_count": 10,
   "metadata": {},
   "outputs": [
    {
     "name": "stdout",
     "output_type": "stream",
     "text": [
      "Num1 is good\n"
     ]
    }
   ],
   "source": [
    "# Case statements \n",
    "num1 = 34 \n",
    "if (num1>12):\n",
    "    print(\"Num1 is good\")\n",
    "elif(num1>35):\n",
    "    print(\"Num2 is not gooo...\")\n",
    "else:\n",
    "    print(\"Num2 is great \")"
   ]
  },
  {
   "cell_type": "code",
   "execution_count": 11,
   "metadata": {},
   "outputs": [
    {
     "name": "stdout",
     "output_type": "stream",
     "text": [
      "Hello\n"
     ]
    }
   ],
   "source": [
    "# Functions \n",
    "def hello():\n",
    "    print(\"Hello\")\n",
    "    \n",
    "hello()"
   ]
  },
  {
   "cell_type": "code",
   "execution_count": 30,
   "metadata": {},
   "outputs": [
    {
     "name": "stdout",
     "output_type": "stream",
     "text": [
      "Started\n",
      "Enter integer:23\n",
      "23\n"
     ]
    }
   ],
   "source": [
    "# Program starts with a main function. \n",
    "# Python program to illustrate function with main. \n",
    "def getInteger():\n",
    "    result = int(input(\"Enter integer:\"))\n",
    "    return result\n",
    "\n",
    "def Main():\n",
    "    print(\"Started\")\n",
    "    # Call the get integer and save it to output \n",
    "    output = getInteger()\n",
    "    print(output)\n",
    "\n",
    "if __name__ == \"__main__\":\n",
    "    Main()"
   ]
  },
  {
   "cell_type": "code",
   "execution_count": 31,
   "metadata": {},
   "outputs": [
    {
     "name": "stdout",
     "output_type": "stream",
     "text": [
      "Started\n",
      "Enter integer:23\n",
      "23\n"
     ]
    }
   ],
   "source": [
    "Main()"
   ]
  },
  {
   "cell_type": "code",
   "execution_count": 21,
   "metadata": {},
   "outputs": [
    {
     "name": "stdout",
     "output_type": "stream",
     "text": [
      "0\n",
      "1\n",
      "2\n",
      "3\n",
      "4\n"
     ]
    }
   ],
   "source": [
    "# Looping \n",
    "for i in range(5):\n",
    "    print(i)"
   ]
  },
  {
   "cell_type": "code",
   "execution_count": 34,
   "metadata": {},
   "outputs": [
    {
     "name": "stdout",
     "output_type": "stream",
     "text": [
      "Started\n",
      "Enter number:32323233\n",
      "32323233.0\n"
     ]
    }
   ],
   "source": [
    "# Modules \n",
    "import math \n",
    "\n",
    "def Main():\n",
    "    print(\"Started\")\n",
    "    num = float(input(\"Enter number:\"))\n",
    "    num = math.fabs(num)\n",
    "    print(num)\n",
    "if __name__ == \"__main__\":\n",
    "    Main()"
   ]
  },
  {
   "cell_type": "code",
   "execution_count": 41,
   "metadata": {},
   "outputs": [
    {
     "name": "stdout",
     "output_type": "stream",
     "text": [
      "False\n",
      "True\n",
      "3\n",
      "2\n"
     ]
    }
   ],
   "source": [
    "print(False) ==0\n",
    "print(True)==1\n",
    "print(True + True + True )\n",
    "print(True + False + True)"
   ]
  },
  {
   "cell_type": "code",
   "execution_count": 43,
   "metadata": {},
   "outputs": [
    {
     "name": "stdout",
     "output_type": "stream",
     "text": [
      "Hello Archit\n",
      "Hello Archit\n",
      "Hello Archit\n"
     ]
    }
   ],
   "source": [
    "# assert - used for debugging purposes. When statement is false, AssertionError is raised. \n",
    "# break - used to control flow of the loop. The statement is used to break out of the loop and passes the control to the statement \n",
    "#         following immediately after the loop \n",
    "\n",
    "#                                     LOOPS AND CONTROL STATEMENTS \n",
    "\n",
    "# a) while statement \n",
    "\n",
    "count = 0 \n",
    "while (count<3):\n",
    "    count = count + 1\n",
    "    print (\"Hello Archit\")\n",
    "\n",
    "# It is not recommended to use while loops for iterators in python. "
   ]
  },
  {
   "cell_type": "code",
   "execution_count": null,
   "metadata": {},
   "outputs": [],
   "source": [
    "# b) Iterating \n",
    "# Iterating over a list"
   ]
  }
 ],
 "metadata": {
  "kernelspec": {
   "display_name": "Python 3",
   "language": "python",
   "name": "python3"
  },
  "language_info": {
   "codemirror_mode": {
    "name": "ipython",
    "version": 3
   },
   "file_extension": ".py",
   "mimetype": "text/x-python",
   "name": "python",
   "nbconvert_exporter": "python",
   "pygments_lexer": "ipython3",
   "version": "3.7.0"
  }
 },
 "nbformat": 4,
 "nbformat_minor": 2
}
