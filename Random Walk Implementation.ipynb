{
 "cells": [
  {
   "cell_type": "code",
   "execution_count": 1,
   "metadata": {
    "collapsed": true
   },
   "outputs": [],
   "source": [
    "import random "
   ]
  },
  {
   "cell_type": "code",
   "execution_count": 7,
   "metadata": {
    "collapsed": true
   },
   "outputs": [],
   "source": [
    "def random_walk(n):\n",
    "    \"\"\"Return coordinates after 'n' block random walk.\"\"\"\n",
    "    x=0\n",
    "    y=0\n",
    "    \n",
    "    for i in range(n):\n",
    "        step = random.choice(['N','S','E','W'])\n",
    "        if step == 'N':\n",
    "            y = y + 1\n",
    "        elif step == 'S':\n",
    "            y = y - 1 \n",
    "        elif step == 'E':\n",
    "            x = x + 1 \n",
    "        else:\n",
    "            x = x - 1 \n",
    "    return (x,y)\n",
    "            "
   ]
  },
  {
   "cell_type": "code",
   "execution_count": 8,
   "metadata": {},
   "outputs": [
    {
     "data": {
      "text/plain": [
       "(5, -5)"
      ]
     },
     "execution_count": 8,
     "metadata": {},
     "output_type": "execute_result"
    }
   ],
   "source": [
    "random_walk(20)"
   ]
  },
  {
   "cell_type": "code",
   "execution_count": 9,
   "metadata": {},
   "outputs": [
    {
     "name": "stdout",
     "output_type": "stream",
     "text": [
      "(4, -2) distance from home is  6\n",
      "(2, 0) distance from home is  2\n",
      "(-1, 3) distance from home is  4\n",
      "(0, 0) distance from home is  0\n",
      "(2, -2) distance from home is  4\n",
      "(2, 0) distance from home is  2\n",
      "(0, -2) distance from home is  2\n",
      "(-2, -4) distance from home is  6\n",
      "(-3, -1) distance from home is  4\n",
      "(-2, 0) distance from home is  2\n",
      "(-1, -3) distance from home is  4\n",
      "(-5, -1) distance from home is  6\n",
      "(0, -6) distance from home is  6\n",
      "(1, -5) distance from home is  6\n",
      "(-2, 2) distance from home is  4\n",
      "(-1, -5) distance from home is  6\n",
      "(-3, -5) distance from home is  8\n",
      "(0, 4) distance from home is  4\n",
      "(-3, -1) distance from home is  4\n",
      "(-1, 1) distance from home is  2\n",
      "(-1, 1) distance from home is  2\n",
      "(-3, 1) distance from home is  4\n",
      "(-1, -3) distance from home is  4\n",
      "(0, 0) distance from home is  0\n",
      "(0, 0) distance from home is  0\n"
     ]
    }
   ],
   "source": [
    "# Let us take 25 random walks, each being 10 blocks long. Distance from home is sum of the absolute value of x and y co-ordinates. \n",
    "for i in range(25):\n",
    "    walk = random_walk(10)\n",
    "    print(walk,\"distance from home is \",abs(walk[0])+abs(walk[1])) "
   ]
  },
  {
   "cell_type": "code",
   "execution_count": 13,
   "metadata": {
    "collapsed": true
   },
   "outputs": [],
   "source": [
    "def random_walk_2(n):\n",
    "    \"\"\"Return (x,y) co-ordinates after 'n' block random walk\"\"\"\n",
    "    x,y = 0,0 \n",
    "    for i in range(n):\n",
    "        (dx,dy) = random.choice([(0,1),(0,-1),(1,0),(0,-1)])\n",
    "        x+= dx \n",
    "        y+= dy\n",
    "    return(x,y)"
   ]
  },
  {
   "cell_type": "code",
   "execution_count": 14,
   "metadata": {},
   "outputs": [
    {
     "name": "stdout",
     "output_type": "stream",
     "text": [
      "(3, -5) Distance from home is : 8\n",
      "(3, -1) Distance from home is : 4\n",
      "(3, -5) Distance from home is : 8\n",
      "(2, -6) Distance from home is : 8\n",
      "(3, -1) Distance from home is : 4\n",
      "(3, -3) Distance from home is : 6\n",
      "(5, 1) Distance from home is : 6\n",
      "(2, -4) Distance from home is : 6\n",
      "(2, -6) Distance from home is : 8\n",
      "(1, -5) Distance from home is : 6\n",
      "(5, -3) Distance from home is : 8\n",
      "(5, 1) Distance from home is : 6\n",
      "(1, -1) Distance from home is : 2\n",
      "(4, -4) Distance from home is : 8\n",
      "(5, -3) Distance from home is : 8\n",
      "(1, -5) Distance from home is : 6\n",
      "(1, -1) Distance from home is : 2\n",
      "(2, -2) Distance from home is : 4\n",
      "(0, -6) Distance from home is : 6\n",
      "(2, -2) Distance from home is : 4\n",
      "(2, -8) Distance from home is : 10\n",
      "(4, 0) Distance from home is : 4\n",
      "(3, 1) Distance from home is : 4\n",
      "(5, 1) Distance from home is : 6\n",
      "(4, 0) Distance from home is : 4\n"
     ]
    }
   ],
   "source": [
    "for i in range(25):\n",
    "    walk = random_walk_2(10)\n",
    "    print(walk,\"Distance from home is :\",abs(walk[0])+abs(walk[1]))"
   ]
  },
  {
   "cell_type": "code",
   "execution_count": 17,
   "metadata": {},
   "outputs": [
    {
     "name": "stdout",
     "output_type": "stream",
     "text": [
      "Walk size=  1 / percentage of no transport 100.0\n",
      "Walk size=  2 / percentage of no transport 100.0\n",
      "Walk size=  3 / percentage of no transport 100.0\n",
      "Walk size=  4 / percentage of no transport 100.0\n",
      "Walk size=  5 / percentage of no transport 73.165\n",
      "Walk size=  6 / percentage of no transport 80.84\n",
      "Walk size=  7 / percentage of no transport 50.18\n",
      "Walk size=  8 / percentage of no transport 59.38\n",
      "Walk size=  9 / percentage of no transport 32.73\n",
      "Walk size=  10 / percentage of no transport 42.675000000000004\n",
      "Walk size=  11 / percentage of no transport 20.77\n",
      "Walk size=  12 / percentage of no transport 29.654999999999998\n",
      "Walk size=  13 / percentage of no transport 13.514999999999999\n",
      "Walk size=  14 / percentage of no transport 20.325\n",
      "Walk size=  15 / percentage of no transport 8.045\n",
      "Walk size=  16 / percentage of no transport 13.215\n",
      "Walk size=  17 / percentage of no transport 4.9399999999999995\n",
      "Walk size=  18 / percentage of no transport 8.469999999999999\n",
      "Walk size=  19 / percentage of no transport 2.8649999999999998\n",
      "Walk size=  20 / percentage of no transport 5.6000000000000005\n",
      "Walk size=  21 / percentage of no transport 1.68\n",
      "Walk size=  22 / percentage of no transport 3.325\n",
      "Walk size=  23 / percentage of no transport 1.045\n",
      "Walk size=  24 / percentage of no transport 2.09\n",
      "Walk size=  25 / percentage of no transport 0.5950000000000001\n",
      "Walk size=  26 / percentage of no transport 1.395\n",
      "Walk size=  27 / percentage of no transport 0.32\n",
      "Walk size=  28 / percentage of no transport 0.8049999999999999\n",
      "Walk size=  29 / percentage of no transport 0.21\n",
      "Walk size=  30 / percentage of no transport 0.38\n"
     ]
    }
   ],
   "source": [
    "# What is the longest random walk you can take so that 'on average' you will end up 4 blocks or fewer from home?\n",
    "# We will conduct 1000's of random trails and compute the percentage of random walks that end in a short-walk home. \n",
    "\n",
    "number_of_walks = 20000\n",
    "\n",
    "for walk_length in range(1,31):\n",
    "    no_transport = 0 \n",
    "    for i in range(number_of_walks):\n",
    "        (x,y)=random_walk_2(walk_length) # Random walk of length walk_length\n",
    "        distance = abs(x)+abs(y)\n",
    "        if distance <= 4:\n",
    "            no_transport += 1 \n",
    "    no_transport_percentage = float(no_transport)/number_of_walks\n",
    "    print('Walk size= ',walk_length,\"/ percentage of no transport\",100*no_transport_percentage )\n",
    "      "
   ]
  },
  {
   "cell_type": "code",
   "execution_count": null,
   "metadata": {
    "collapsed": true
   },
   "outputs": [],
   "source": []
  }
 ],
 "metadata": {
  "kernelspec": {
   "display_name": "Python 3",
   "language": "python",
   "name": "python3"
  },
  "language_info": {
   "codemirror_mode": {
    "name": "ipython",
    "version": 3
   },
   "file_extension": ".py",
   "mimetype": "text/x-python",
   "name": "python",
   "nbconvert_exporter": "python",
   "pygments_lexer": "ipython3",
   "version": "3.6.3"
  }
 },
 "nbformat": 4,
 "nbformat_minor": 2
}
